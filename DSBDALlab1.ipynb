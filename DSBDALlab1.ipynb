{
 "cells": [
  {
   "cell_type": "code",
   "execution_count": 10,
   "id": "36b684a7",
   "metadata": {},
   "outputs": [
    {
     "name": "stdout",
     "output_type": "stream",
     "text": [
      "0    1\n",
      "1    2\n",
      "2    3\n",
      "3    4\n",
      "4    5\n",
      "dtype: int64\n",
      "0    l\n",
      "1    i\n",
      "2    s\n",
      "3    t\n",
      "dtype: object\n",
      "          Sr. no.                    Roll No        Name of the Student   DM  \\\n",
      "0               1                     SCOA01              ALISHA SHEIKH   24   \n",
      "1               2                     SCOA02  SOHAM JAYYANNTH DESHMUKKH   16   \n",
      "2               3                     SCOA03         SHELAR NEHA NILESH   20   \n",
      "3               4                     SCOA04                RIYA JAWALE   18   \n",
      "4               5                     SCOA05      NARHE VARSHA RAOSAHEB   20   \n",
      "..            ...                        ...                        ...  ...   \n",
      "77  Maximum marks                        NaN                        NaN   24   \n",
      "78            NaN                        NaN                        NaN  NaN   \n",
      "79            NaN                        NaN                        NaN  NaN   \n",
      "80            NaN                        NaN                        NaN  NaN   \n",
      "81            NaN  Internal Exam Coordinator                        NaN  NaN   \n",
      "\n",
      "    FDS  OOP   CG DELD GENDER  Unnamed: 9  ...  Unnamed: 14  Unnamed: 15  \\\n",
      "0    27   20   15   16      M         NaN  ...          NaN          NaN   \n",
      "1     9    9   AB   AB      M         NaN  ...          NaN          NaN   \n",
      "2    23   16   15   15      M         NaN  ...          NaN          NaN   \n",
      "3    14   11    8   15      M         NaN  ...          NaN          NaN   \n",
      "4    24   16   24   20      M         NaN  ...          NaN          NaN   \n",
      "..  ...  ...  ...  ...    ...         ...  ...          ...          ...   \n",
      "77   27   25   29   27    NaN         NaN  ...          NaN          NaN   \n",
      "78  NaN  NaN  NaN  NaN    NaN         NaN  ...          NaN          NaN   \n",
      "79  NaN  NaN  NaN  NaN    NaN         NaN  ...          NaN          NaN   \n",
      "80  NaN  NaN  NaN  NaN    NaN         NaN  ...          NaN          NaN   \n",
      "81  NaN  NaN  HOD  NaN    NaN         NaN  ...          NaN          NaN   \n",
      "\n",
      "    Unnamed: 16  Unnamed: 17  Unnamed: 18  Unnamed: 19  Unnamed: 20  \\\n",
      "0           NaN          NaN          NaN          NaN          NaN   \n",
      "1           NaN          NaN          NaN          NaN          NaN   \n",
      "2           NaN          NaN          NaN          NaN          NaN   \n",
      "3           NaN          NaN          NaN          NaN          NaN   \n",
      "4           NaN          NaN          NaN          NaN          NaN   \n",
      "..          ...          ...          ...          ...          ...   \n",
      "77          NaN          NaN          NaN          NaN          NaN   \n",
      "78          NaN          NaN          NaN          NaN          NaN   \n",
      "79          NaN          NaN          NaN          NaN          NaN   \n",
      "80          NaN          NaN          NaN          NaN          NaN   \n",
      "81          NaN          NaN          NaN          NaN          NaN   \n",
      "\n",
      "    Unnamed: 21  Unnamed: 22  Unnamed: 23  \n",
      "0           NaN          NaN          NaN  \n",
      "1           NaN          NaN          NaN  \n",
      "2           NaN          NaN          NaN  \n",
      "3           NaN          NaN          NaN  \n",
      "4           NaN          NaN          NaN  \n",
      "..          ...          ...          ...  \n",
      "77          NaN          NaN          NaN  \n",
      "78          NaN          NaN         321`  \n",
      "79          NaN          NaN            `  \n",
      "80          NaN          NaN          NaN  \n",
      "81          NaN          NaN          NaN  \n",
      "\n",
      "[82 rows x 24 columns]\n",
      "0      24\n",
      "1      16\n",
      "2      20\n",
      "3      18\n",
      "4      20\n",
      "     ... \n",
      "77     24\n",
      "78    NaN\n",
      "79    NaN\n",
      "80    NaN\n",
      "81    NaN\n",
      "Name: DM, Length: 82, dtype: object\n"
     ]
    }
   ],
   "source": [
    "import pandas as pd\n",
    " \n",
    "import numpy as np\n",
    "\n",
    "\n",
    "# implement series using array\n",
    "\n",
    "a = np.array([1,2,3,4,5])\n",
    "\n",
    "res = pd.Series(a)\n",
    "\n",
    "print(res)\n",
    "\n",
    "\n",
    "#implement series using list\n",
    "\n",
    "l = ['l','i','s','t']\n",
    "\n",
    "disp = pd.Series(l)\n",
    "\n",
    "print(disp)\n",
    "\n",
    "\n",
    "#Dealing with Excel files\n",
    "\n",
    "e = pd.read_excel(\"/home/ubuntu/Downloads/Demo.xlsx\")\n",
    "\n",
    "print(e)\n",
    "\n",
    "f = pd.Series(e['DM'])\n",
    "\n",
    "print(f)"
   ]
  },
  {
   "cell_type": "code",
   "execution_count": 11,
   "id": "e6fc4205",
   "metadata": {},
   "outputs": [
    {
     "name": "stdout",
     "output_type": "stream",
     "text": [
      "<bound method Series.sort_values of 0      24\n",
      "1      16\n",
      "2      20\n",
      "3      18\n",
      "4      20\n",
      "     ... \n",
      "77     24\n",
      "78    NaN\n",
      "79    NaN\n",
      "80    NaN\n",
      "81    NaN\n",
      "Name: DM, Length: 82, dtype: object>\n"
     ]
    }
   ],
   "source": [
    "#f = pd.to_numeric(f, errors='coerce')\n",
    "s = f.sort_values\n",
    "print(s)"
   ]
  },
  {
   "cell_type": "code",
   "execution_count": 13,
   "id": "6c5b48b0",
   "metadata": {},
   "outputs": [
    {
     "name": "stdout",
     "output_type": "stream",
     "text": [
      "<bound method NDFrame.head of 0      24\n",
      "1      16\n",
      "2      20\n",
      "3      18\n",
      "4      20\n",
      "     ... \n",
      "77     24\n",
      "78    NaN\n",
      "79    NaN\n",
      "80    NaN\n",
      "81    NaN\n",
      "Name: DM, Length: 82, dtype: object>\n"
     ]
    }
   ],
   "source": [
    "h = f.head\n",
    "print(h)"
   ]
  },
  {
   "cell_type": "code",
   "execution_count": null,
   "id": "628867a6",
   "metadata": {},
   "outputs": [],
   "source": []
  }
 ],
 "metadata": {
  "kernelspec": {
   "display_name": "Python 3 (ipykernel)",
   "language": "python",
   "name": "python3"
  },
  "language_info": {
   "codemirror_mode": {
    "name": "ipython",
    "version": 3
   },
   "file_extension": ".py",
   "mimetype": "text/x-python",
   "name": "python",
   "nbconvert_exporter": "python",
   "pygments_lexer": "ipython3",
   "version": "3.10.12"
  }
 },
 "nbformat": 4,
 "nbformat_minor": 5
}
